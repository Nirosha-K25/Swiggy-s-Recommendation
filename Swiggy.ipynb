{
 "cells": [
  {
   "cell_type": "code",
   "execution_count": 33,
   "id": "359fc5e2",
   "metadata": {},
   "outputs": [
    {
     "name": "stderr",
     "output_type": "stream",
     "text": [
      "C:\\Users\\Sandhya\\AppData\\Local\\Temp\\ipykernel_20624\\848331988.py:2: DtypeWarning: Columns (0) have mixed types. Specify dtype option on import or set low_memory=False.\n",
      "  data = pd.read_csv(r'swiggy.csv',  encoding='unicode_escape')\n"
     ]
    },
    {
     "data": {
      "text/html": [
       "<div>\n",
       "<style scoped>\n",
       "    .dataframe tbody tr th:only-of-type {\n",
       "        vertical-align: middle;\n",
       "    }\n",
       "\n",
       "    .dataframe tbody tr th {\n",
       "        vertical-align: top;\n",
       "    }\n",
       "\n",
       "    .dataframe thead th {\n",
       "        text-align: right;\n",
       "    }\n",
       "</style>\n",
       "<table border=\"1\" class=\"dataframe\">\n",
       "  <thead>\n",
       "    <tr style=\"text-align: right;\">\n",
       "      <th></th>\n",
       "      <th>id</th>\n",
       "      <th>name</th>\n",
       "      <th>city</th>\n",
       "      <th>rating</th>\n",
       "      <th>rating_count</th>\n",
       "      <th>cost</th>\n",
       "      <th>cuisine</th>\n",
       "      <th>lic_no</th>\n",
       "      <th>link</th>\n",
       "      <th>address</th>\n",
       "      <th>menu</th>\n",
       "    </tr>\n",
       "  </thead>\n",
       "  <tbody>\n",
       "    <tr>\n",
       "      <th>0</th>\n",
       "      <td>567335.0</td>\n",
       "      <td>AB FOODS POINT</td>\n",
       "      <td>Abohar</td>\n",
       "      <td>--</td>\n",
       "      <td>Too Few Ratings</td>\n",
       "      <td>¹ 200</td>\n",
       "      <td>Beverages,Pizzas</td>\n",
       "      <td>22122652000138</td>\n",
       "      <td>https://www.swiggy.com/restaurants/ab-foods-po...</td>\n",
       "      <td>AB FOODS POINT, NEAR RISHI NARANG DENTAL CLINI...</td>\n",
       "      <td>Menu/567335.json</td>\n",
       "    </tr>\n",
       "    <tr>\n",
       "      <th>1</th>\n",
       "      <td>531342.0</td>\n",
       "      <td>Janta Sweet House</td>\n",
       "      <td>Abohar</td>\n",
       "      <td>4.4</td>\n",
       "      <td>50+ ratings</td>\n",
       "      <td>¹ 200</td>\n",
       "      <td>Sweets,Bakery</td>\n",
       "      <td>12117201000112</td>\n",
       "      <td>https://www.swiggy.com/restaurants/janta-sweet...</td>\n",
       "      <td>Janta Sweet House, Bazar No.9, Circullar Road,...</td>\n",
       "      <td>Menu/531342.json</td>\n",
       "    </tr>\n",
       "    <tr>\n",
       "      <th>2</th>\n",
       "      <td>158203.0</td>\n",
       "      <td>theka coffee desi</td>\n",
       "      <td>Abohar</td>\n",
       "      <td>3.8</td>\n",
       "      <td>100+ ratings</td>\n",
       "      <td>¹ 100</td>\n",
       "      <td>Beverages</td>\n",
       "      <td>22121652000190</td>\n",
       "      <td>https://www.swiggy.com/restaurants/theka-coffe...</td>\n",
       "      <td>theka coffee desi, sahtiya sadan road city</td>\n",
       "      <td>Menu/158203.json</td>\n",
       "    </tr>\n",
       "    <tr>\n",
       "      <th>3</th>\n",
       "      <td>187912.0</td>\n",
       "      <td>Singh Hut</td>\n",
       "      <td>Abohar</td>\n",
       "      <td>3.7</td>\n",
       "      <td>20+ ratings</td>\n",
       "      <td>¹ 250</td>\n",
       "      <td>Fast Food,Indian</td>\n",
       "      <td>22119652000167</td>\n",
       "      <td>https://www.swiggy.com/restaurants/singh-hut-n...</td>\n",
       "      <td>Singh Hut, CIRCULAR ROAD NEAR NEHRU PARK ABOHAR</td>\n",
       "      <td>Menu/187912.json</td>\n",
       "    </tr>\n",
       "    <tr>\n",
       "      <th>4</th>\n",
       "      <td>543530.0</td>\n",
       "      <td>GRILL MASTERS</td>\n",
       "      <td>Abohar</td>\n",
       "      <td>--</td>\n",
       "      <td>Too Few Ratings</td>\n",
       "      <td>¹ 250</td>\n",
       "      <td>Italian-American,Fast Food</td>\n",
       "      <td>12122201000053</td>\n",
       "      <td>https://www.swiggy.com/restaurants/grill-maste...</td>\n",
       "      <td>GRILL MASTERS, ADA Heights, Abohar - Hanumanga...</td>\n",
       "      <td>Menu/543530.json</td>\n",
       "    </tr>\n",
       "  </tbody>\n",
       "</table>\n",
       "</div>"
      ],
      "text/plain": [
       "         id               name    city rating     rating_count   cost  \\\n",
       "0  567335.0     AB FOODS POINT  Abohar     --  Too Few Ratings  ¹ 200   \n",
       "1  531342.0  Janta Sweet House  Abohar    4.4      50+ ratings  ¹ 200   \n",
       "2  158203.0  theka coffee desi  Abohar    3.8     100+ ratings  ¹ 100   \n",
       "3  187912.0          Singh Hut  Abohar    3.7      20+ ratings  ¹ 250   \n",
       "4  543530.0      GRILL MASTERS  Abohar     --  Too Few Ratings  ¹ 250   \n",
       "\n",
       "                      cuisine          lic_no  \\\n",
       "0            Beverages,Pizzas  22122652000138   \n",
       "1               Sweets,Bakery  12117201000112   \n",
       "2                   Beverages  22121652000190   \n",
       "3            Fast Food,Indian  22119652000167   \n",
       "4  Italian-American,Fast Food  12122201000053   \n",
       "\n",
       "                                                link  \\\n",
       "0  https://www.swiggy.com/restaurants/ab-foods-po...   \n",
       "1  https://www.swiggy.com/restaurants/janta-sweet...   \n",
       "2  https://www.swiggy.com/restaurants/theka-coffe...   \n",
       "3  https://www.swiggy.com/restaurants/singh-hut-n...   \n",
       "4  https://www.swiggy.com/restaurants/grill-maste...   \n",
       "\n",
       "                                             address              menu  \n",
       "0  AB FOODS POINT, NEAR RISHI NARANG DENTAL CLINI...  Menu/567335.json  \n",
       "1  Janta Sweet House, Bazar No.9, Circullar Road,...  Menu/531342.json  \n",
       "2         theka coffee desi, sahtiya sadan road city  Menu/158203.json  \n",
       "3    Singh Hut, CIRCULAR ROAD NEAR NEHRU PARK ABOHAR  Menu/187912.json  \n",
       "4  GRILL MASTERS, ADA Heights, Abohar - Hanumanga...  Menu/543530.json  "
      ]
     },
     "execution_count": 33,
     "metadata": {},
     "output_type": "execute_result"
    }
   ],
   "source": [
    "import pandas as pd\n",
    "data = pd.read_csv(r'swiggy.csv',  encoding='unicode_escape')\n",
    "data.head()"
   ]
  },
  {
   "cell_type": "code",
   "execution_count": 34,
   "id": "e629e597",
   "metadata": {},
   "outputs": [
    {
     "data": {
      "text/plain": [
       "Index(['id', 'name', 'city', 'rating', 'rating_count', 'cost', 'cuisine',\n",
       "       'lic_no', 'link', 'address', 'menu'],\n",
       "      dtype='object')"
      ]
     },
     "execution_count": 34,
     "metadata": {},
     "output_type": "execute_result"
    }
   ],
   "source": [
    "data.columns"
   ]
  },
  {
   "cell_type": "code",
   "execution_count": 35,
   "id": "822243f5",
   "metadata": {},
   "outputs": [],
   "source": [
    "data.drop([\"id\", \"lic_no\", \"link\", \"address\", \"menu\"], axis=1, inplace=True)\n"
   ]
  },
  {
   "cell_type": "code",
   "execution_count": 36,
   "id": "f51da0b4",
   "metadata": {},
   "outputs": [
    {
     "name": "stdout",
     "output_type": "stream",
     "text": [
      "<class 'pandas.core.frame.DataFrame'>\n",
      "RangeIndex: 148547 entries, 0 to 148546\n",
      "Data columns (total 6 columns):\n",
      " #   Column        Non-Null Count   Dtype \n",
      "---  ------        --------------   ----- \n",
      " 0   name          148461 non-null  object\n",
      " 1   city          148541 non-null  object\n",
      " 2   rating        148455 non-null  object\n",
      " 3   rating_count  148455 non-null  object\n",
      " 4   cost          148410 non-null  object\n",
      " 5   cuisine       148442 non-null  object\n",
      "dtypes: object(6)\n",
      "memory usage: 6.8+ MB\n"
     ]
    }
   ],
   "source": [
    "data.info()"
   ]
  },
  {
   "cell_type": "code",
   "execution_count": 37,
   "id": "8e31541c",
   "metadata": {},
   "outputs": [
    {
     "data": {
      "text/plain": [
       "name             86\n",
       "city              6\n",
       "rating           92\n",
       "rating_count     92\n",
       "cost            137\n",
       "cuisine         105\n",
       "dtype: int64"
      ]
     },
     "execution_count": 37,
     "metadata": {},
     "output_type": "execute_result"
    }
   ],
   "source": [
    "data.isnull().sum()"
   ]
  },
  {
   "cell_type": "code",
   "execution_count": 38,
   "id": "9d17dddb",
   "metadata": {},
   "outputs": [
    {
     "data": {
      "text/html": [
       "<div>\n",
       "<style scoped>\n",
       "    .dataframe tbody tr th:only-of-type {\n",
       "        vertical-align: middle;\n",
       "    }\n",
       "\n",
       "    .dataframe tbody tr th {\n",
       "        vertical-align: top;\n",
       "    }\n",
       "\n",
       "    .dataframe thead th {\n",
       "        text-align: right;\n",
       "    }\n",
       "</style>\n",
       "<table border=\"1\" class=\"dataframe\">\n",
       "  <thead>\n",
       "    <tr style=\"text-align: right;\">\n",
       "      <th></th>\n",
       "      <th>name</th>\n",
       "      <th>city</th>\n",
       "      <th>rating</th>\n",
       "      <th>rating_count</th>\n",
       "      <th>cost</th>\n",
       "      <th>cuisine</th>\n",
       "    </tr>\n",
       "  </thead>\n",
       "  <tbody>\n",
       "    <tr>\n",
       "      <th>31044</th>\n",
       "      <td>NaN</td>\n",
       "      <td>Greater Mohali,Chandigarh</td>\n",
       "      <td>NaN</td>\n",
       "      <td>NaN</td>\n",
       "      <td>NaN</td>\n",
       "      <td>NaN</td>\n",
       "    </tr>\n",
       "    <tr>\n",
       "      <th>32912</th>\n",
       "      <td>NaN</td>\n",
       "      <td>West Chd,Chandigarh</td>\n",
       "      <td>NaN</td>\n",
       "      <td>NaN</td>\n",
       "      <td>NaN</td>\n",
       "      <td>NaN</td>\n",
       "    </tr>\n",
       "    <tr>\n",
       "      <th>33046</th>\n",
       "      <td>NaN</td>\n",
       "      <td>West Chd,Chandigarh</td>\n",
       "      <td>NaN</td>\n",
       "      <td>NaN</td>\n",
       "      <td>NaN</td>\n",
       "      <td>NaN</td>\n",
       "    </tr>\n",
       "    <tr>\n",
       "      <th>33488</th>\n",
       "      <td>NaN</td>\n",
       "      <td>South Chd,Chandigarh</td>\n",
       "      <td>NaN</td>\n",
       "      <td>NaN</td>\n",
       "      <td>NaN</td>\n",
       "      <td>NaN</td>\n",
       "    </tr>\n",
       "    <tr>\n",
       "      <th>36492</th>\n",
       "      <td>NaN</td>\n",
       "      <td>George Town,Chennai</td>\n",
       "      <td>NaN</td>\n",
       "      <td>NaN</td>\n",
       "      <td>NaN</td>\n",
       "      <td>NaN</td>\n",
       "    </tr>\n",
       "    <tr>\n",
       "      <th>...</th>\n",
       "      <td>...</td>\n",
       "      <td>...</td>\n",
       "      <td>...</td>\n",
       "      <td>...</td>\n",
       "      <td>...</td>\n",
       "      <td>...</td>\n",
       "    </tr>\n",
       "    <tr>\n",
       "      <th>137128</th>\n",
       "      <td>NaN</td>\n",
       "      <td>Satara</td>\n",
       "      <td>NaN</td>\n",
       "      <td>NaN</td>\n",
       "      <td>NaN</td>\n",
       "      <td>NaN</td>\n",
       "    </tr>\n",
       "    <tr>\n",
       "      <th>137552</th>\n",
       "      <td>NaN</td>\n",
       "      <td>Shillong</td>\n",
       "      <td>NaN</td>\n",
       "      <td>NaN</td>\n",
       "      <td>NaN</td>\n",
       "      <td>NaN</td>\n",
       "    </tr>\n",
       "    <tr>\n",
       "      <th>137620</th>\n",
       "      <td>NaN</td>\n",
       "      <td>Shivamogga</td>\n",
       "      <td>NaN</td>\n",
       "      <td>NaN</td>\n",
       "      <td>NaN</td>\n",
       "      <td>NaN</td>\n",
       "    </tr>\n",
       "    <tr>\n",
       "      <th>138386</th>\n",
       "      <td>NaN</td>\n",
       "      <td>Sirsa</td>\n",
       "      <td>NaN</td>\n",
       "      <td>NaN</td>\n",
       "      <td>NaN</td>\n",
       "      <td>NaN</td>\n",
       "    </tr>\n",
       "    <tr>\n",
       "      <th>141574</th>\n",
       "      <td>NaN</td>\n",
       "      <td>Thiruvananthapuram</td>\n",
       "      <td>NaN</td>\n",
       "      <td>NaN</td>\n",
       "      <td>NaN</td>\n",
       "      <td>NaN</td>\n",
       "    </tr>\n",
       "  </tbody>\n",
       "</table>\n",
       "<p>86 rows × 6 columns</p>\n",
       "</div>"
      ],
      "text/plain": [
       "       name                       city rating rating_count cost cuisine\n",
       "31044   NaN  Greater Mohali,Chandigarh    NaN          NaN  NaN     NaN\n",
       "32912   NaN        West Chd,Chandigarh    NaN          NaN  NaN     NaN\n",
       "33046   NaN        West Chd,Chandigarh    NaN          NaN  NaN     NaN\n",
       "33488   NaN       South Chd,Chandigarh    NaN          NaN  NaN     NaN\n",
       "36492   NaN        George Town,Chennai    NaN          NaN  NaN     NaN\n",
       "...     ...                        ...    ...          ...  ...     ...\n",
       "137128  NaN                     Satara    NaN          NaN  NaN     NaN\n",
       "137552  NaN                   Shillong    NaN          NaN  NaN     NaN\n",
       "137620  NaN                 Shivamogga    NaN          NaN  NaN     NaN\n",
       "138386  NaN                      Sirsa    NaN          NaN  NaN     NaN\n",
       "141574  NaN         Thiruvananthapuram    NaN          NaN  NaN     NaN\n",
       "\n",
       "[86 rows x 6 columns]"
      ]
     },
     "execution_count": 38,
     "metadata": {},
     "output_type": "execute_result"
    }
   ],
   "source": [
    "data[data['name'].isnull()]"
   ]
  },
  {
   "cell_type": "code",
   "execution_count": 39,
   "id": "64171395",
   "metadata": {},
   "outputs": [
    {
     "data": {
      "text/plain": [
       "name            0\n",
       "city            0\n",
       "rating          0\n",
       "rating_count    0\n",
       "cost            0\n",
       "cuisine         0\n",
       "dtype: int64"
      ]
     },
     "execution_count": 39,
     "metadata": {},
     "output_type": "execute_result"
    }
   ],
   "source": [
    "data.dropna(inplace=True)\n",
    "data.isnull().sum()"
   ]
  },
  {
   "cell_type": "code",
   "execution_count": 40,
   "id": "42d005b7",
   "metadata": {},
   "outputs": [],
   "source": [
    "# Remove currency symbols and convert to numeric\n",
    "data['cost'] = data['cost'].str.replace('₹', '').str.replace(',', '')\n",
    "data['cost'] = data['cost'].fillna(200)\n",
    "data['cuisine'] = data['cuisine'].fillna('multicuisine')\n"
   ]
  },
  {
   "cell_type": "code",
   "execution_count": 41,
   "id": "dec0f8fc",
   "metadata": {},
   "outputs": [
    {
     "data": {
      "text/plain": [
       "name            0\n",
       "city            0\n",
       "rating          0\n",
       "rating_count    0\n",
       "cost            0\n",
       "cuisine         0\n",
       "dtype: int64"
      ]
     },
     "execution_count": 41,
     "metadata": {},
     "output_type": "execute_result"
    }
   ],
   "source": [
    "data.isnull().sum()"
   ]
  },
  {
   "cell_type": "code",
   "execution_count": 42,
   "id": "c3d8fc3d",
   "metadata": {},
   "outputs": [],
   "source": [
    "data.duplicated().sum()\n",
    "# Remove duplicate rows\n",
    "data.drop_duplicates(inplace=True)"
   ]
  },
  {
   "cell_type": "code",
   "execution_count": 43,
   "id": "c7ee6d40",
   "metadata": {},
   "outputs": [],
   "source": [
    "data['rating'] = (\n",
    "\tdata['rating']\n",
    "\t.str.replace('Too Few Ratings', '0')\n",
    "\t.str.replace('--', '0')\n",
    "\t.str.replace('-', '0')\n",
    "\t.astype(float)\n",
    ")"
   ]
  },
  {
   "cell_type": "code",
   "execution_count": 44,
   "id": "2523add8",
   "metadata": {},
   "outputs": [],
   "source": [
    "# Remove unwanted characters and convert to int, handling empty strings safely\n",
    "data['cost'] = (\n",
    "\tdata['cost']\n",
    "\t.astype(str)\n",
    "\t.str.replace(r'[^\\d]', '', regex=True)\n",
    ")\n",
    "data['cost'] = pd.to_numeric(data['cost'], errors='coerce').fillna(200).astype(int)"
   ]
  },
  {
   "cell_type": "code",
   "execution_count": 45,
   "id": "d3c58755",
   "metadata": {},
   "outputs": [],
   "source": [
    "data.reset_index(drop=True, inplace=True)"
   ]
  },
  {
   "cell_type": "code",
   "execution_count": 46,
   "id": "7ea1be23",
   "metadata": {},
   "outputs": [
    {
     "data": {
      "text/html": [
       "<div>\n",
       "<style scoped>\n",
       "    .dataframe tbody tr th:only-of-type {\n",
       "        vertical-align: middle;\n",
       "    }\n",
       "\n",
       "    .dataframe tbody tr th {\n",
       "        vertical-align: top;\n",
       "    }\n",
       "\n",
       "    .dataframe thead th {\n",
       "        text-align: right;\n",
       "    }\n",
       "</style>\n",
       "<table border=\"1\" class=\"dataframe\">\n",
       "  <thead>\n",
       "    <tr style=\"text-align: right;\">\n",
       "      <th></th>\n",
       "      <th>name</th>\n",
       "      <th>city</th>\n",
       "      <th>rating</th>\n",
       "      <th>rating_count</th>\n",
       "      <th>cost</th>\n",
       "      <th>cuisine</th>\n",
       "    </tr>\n",
       "  </thead>\n",
       "  <tbody>\n",
       "    <tr>\n",
       "      <th>0</th>\n",
       "      <td>AB FOODS POINT</td>\n",
       "      <td>Abohar</td>\n",
       "      <td>0.0</td>\n",
       "      <td>Too Few Ratings</td>\n",
       "      <td>200</td>\n",
       "      <td>Beverages,Pizzas</td>\n",
       "    </tr>\n",
       "    <tr>\n",
       "      <th>1</th>\n",
       "      <td>Janta Sweet House</td>\n",
       "      <td>Abohar</td>\n",
       "      <td>4.4</td>\n",
       "      <td>50+ ratings</td>\n",
       "      <td>200</td>\n",
       "      <td>Sweets,Bakery</td>\n",
       "    </tr>\n",
       "    <tr>\n",
       "      <th>2</th>\n",
       "      <td>theka coffee desi</td>\n",
       "      <td>Abohar</td>\n",
       "      <td>3.8</td>\n",
       "      <td>100+ ratings</td>\n",
       "      <td>100</td>\n",
       "      <td>Beverages</td>\n",
       "    </tr>\n",
       "    <tr>\n",
       "      <th>3</th>\n",
       "      <td>Singh Hut</td>\n",
       "      <td>Abohar</td>\n",
       "      <td>3.7</td>\n",
       "      <td>20+ ratings</td>\n",
       "      <td>250</td>\n",
       "      <td>Fast Food,Indian</td>\n",
       "    </tr>\n",
       "    <tr>\n",
       "      <th>4</th>\n",
       "      <td>GRILL MASTERS</td>\n",
       "      <td>Abohar</td>\n",
       "      <td>0.0</td>\n",
       "      <td>Too Few Ratings</td>\n",
       "      <td>250</td>\n",
       "      <td>Italian-American,Fast Food</td>\n",
       "    </tr>\n",
       "  </tbody>\n",
       "</table>\n",
       "</div>"
      ],
      "text/plain": [
       "                name    city  rating     rating_count  cost  \\\n",
       "0     AB FOODS POINT  Abohar     0.0  Too Few Ratings   200   \n",
       "1  Janta Sweet House  Abohar     4.4      50+ ratings   200   \n",
       "2  theka coffee desi  Abohar     3.8     100+ ratings   100   \n",
       "3          Singh Hut  Abohar     3.7      20+ ratings   250   \n",
       "4      GRILL MASTERS  Abohar     0.0  Too Few Ratings   250   \n",
       "\n",
       "                      cuisine  \n",
       "0            Beverages,Pizzas  \n",
       "1               Sweets,Bakery  \n",
       "2                   Beverages  \n",
       "3            Fast Food,Indian  \n",
       "4  Italian-American,Fast Food  "
      ]
     },
     "execution_count": 46,
     "metadata": {},
     "output_type": "execute_result"
    }
   ],
   "source": [
    "data.head()"
   ]
  },
  {
   "cell_type": "code",
   "execution_count": 47,
   "id": "c65ab451",
   "metadata": {},
   "outputs": [
    {
     "data": {
      "text/plain": [
       "(148388, 6)"
      ]
     },
     "execution_count": 47,
     "metadata": {},
     "output_type": "execute_result"
    }
   ],
   "source": [
    "data.shape"
   ]
  },
  {
   "cell_type": "code",
   "execution_count": 48,
   "id": "7e74fbe7",
   "metadata": {},
   "outputs": [],
   "source": [
    "data.to_csv(r\"cleaned_data.csv\", index=False)"
   ]
  }
 ],
 "metadata": {
  "kernelspec": {
   "display_name": "Python 3",
   "language": "python",
   "name": "python3"
  },
  "language_info": {
   "codemirror_mode": {
    "name": "ipython",
    "version": 3
   },
   "file_extension": ".py",
   "mimetype": "text/x-python",
   "name": "python",
   "nbconvert_exporter": "python",
   "pygments_lexer": "ipython3",
   "version": "3.11.9"
  }
 },
 "nbformat": 4,
 "nbformat_minor": 5
}
